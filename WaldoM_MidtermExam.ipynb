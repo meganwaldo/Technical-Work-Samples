{
 "cells": [
  {
   "cell_type": "markdown",
   "id": "1cfcc9b7",
   "metadata": {},
   "source": [
    "# Midterm Exam\n",
    "Machine Learning in Statistics - Fall 2022\n",
    "\n",
    "Megan Waldo\n",
    "\n",
    "\n",
    "### - READ THESE INSTRUCTIONS CAREFULLY\n",
    "\n",
    "\n",
    "- You have until Monday 10/17 (MIDNIGHT) to begin taking the exam\n",
    "- Once you begin the exam you will have six hours to complete it\n",
    "- The exam is open book so there will be no proctoring nor lockdown browser. \n",
    "- You are supposed to work individually and submit the test individually. Any suspicion of plagiarism or academic misconduct will be reported\n",
    "- The Exam consist of 4 problems, equally weighted. Partial credit can be awarded.\n",
    "- Parts of the tests have many right answers so it is unlikely that two or more individuals will choose the same answer. \n",
    "- As in any test, there will be questions I can answer (question clarification) and some that I cannot answer (those that would implicitly solve the question for you).\n",
    "- Submit a Jupyter notebook with your code and a written explanation for each question.\n",
    "- PLEASE DO NOT do more than what it is required from you to do. I have to be able to read your code without unnecessary functions. Your code lines must have a purpose. Extra graphics, or extra analysis to support your answer may be acceptable ONLY if you place it at the end of your answer and explicitly state so (put a header of “Extra Analysis”).\n",
    "- Where not specified, ACCURACY should be the metric to evaluate the performance of a model.\n",
    "- You are allowed to make any assumptions NECESSARY to answer the question, in case more details were not provided.\n",
    "- Read and re-read the questions. Make sure you are doing what is being asked from you.\n",
    "- Be concise. More text do not translate into better answers.\n",
    "\n",
    "#### IMPORTANT:\n",
    "Generate your own *Mynumber* number with the code below. You just need the first and the last letter of your first name to generate this number. You will use this number to answer different questions in the exam. I use my name as example below\n",
    "\n"
   ]
  },
  {
   "cell_type": "code",
   "execution_count": 1,
   "id": "d101fbe7",
   "metadata": {},
   "outputs": [],
   "source": [
    "#Enter the first and the last letter of your first name CAPITALIZED in the code below to generate a Mynumber number.\n",
    "\n",
    "# First=ord('First letter in quotes capitalized')\n",
    "# Last=ord('Last Letter in quotes capitalized')\n",
    "# Mynumber=First+Last\n",
    "\n",
    "#My first name is MEGAN \n",
    "\n",
    "#In capitals, my first letter is M, and my last letter is N. So:\n",
    "\n",
    "First=ord('M')\n",
    "Last=ord('N')\n",
    "\n",
    "#Therefore\n",
    "Mynumber=First+Last\n",
    "\n",
    "\n"
   ]
  },
  {
   "cell_type": "code",
   "execution_count": 2,
   "id": "0c7f1a81",
   "metadata": {},
   "outputs": [
    {
     "name": "stdout",
     "output_type": "stream",
     "text": [
      "155\n"
     ]
    }
   ],
   "source": [
    "print(Mynumber)\n",
    "#Mynumber for my name MEGAN is 153\n"
   ]
  },
  {
   "cell_type": "code",
   "execution_count": 3,
   "id": "2ed69f31",
   "metadata": {},
   "outputs": [],
   "source": [
    "# Import Libraries\n",
    "\n",
    "import sys\n",
    "assert sys.version_info >= (3, 5)\n",
    "\n",
    "import sklearn\n",
    "assert sklearn.__version__ >= \"0.20\"\n",
    "\n",
    "\n",
    "import numpy as np\n",
    "import pandas as pd\n",
    "import os\n",
    "import tarfile # For Housing Data Set\n",
    "import urllib # For Housing Data Set\n",
    "\n",
    "# Plot figures\n",
    "%matplotlib inline\n",
    "import matplotlib as mpl\n",
    "import matplotlib.pyplot as plt\n",
    "mpl.rc('axes', labelsize=14)\n",
    "mpl.rc('xtick', labelsize=12)\n",
    "mpl.rc('ytick', labelsize=12)\n",
    "\n",
    "# Save figures\n",
    "PROJECT_ROOT_DIR = \".\"\n",
    "CHAPTER_ID = \"end_to_end_project\"\n",
    "IMAGES_PATH = os.path.join(PROJECT_ROOT_DIR, \"images\", CHAPTER_ID)\n",
    "os.makedirs(IMAGES_PATH, exist_ok=True)\n",
    "\n",
    "def save_fig(fig_id, tight_layout=True):\n",
    "    path = os.path.join(fig_id + \".png\")\n",
    "    print(\"Saving figure\", fig_id)\n",
    "    if tight_layout:\n",
    "        plt.tight_layout()\n",
    "    plt.savefig(path, format='png', dpi=300)\n",
    "\n",
    "np.random.seed(42)\n",
    "\n",
    "import warnings\n",
    "warnings.filterwarnings(action=\"ignore\", message=\"^internal gelsd\")"
   ]
  },
  {
   "cell_type": "code",
   "execution_count": 4,
   "id": "b581d753",
   "metadata": {},
   "outputs": [],
   "source": [
    "# Import Tools\n",
    "\n",
    "from sklearn import datasets \n",
    "    # to import data set\n",
    "\n",
    "from sklearn.model_selection import train_test_split \n",
    "    # Split arrays or matrices into random train and test subsets.\n",
    "    # Quick utility that wraps input validation and next(ShuffleSplit().split(X, y)) and application to input data into a single call for splitting (and optionally subsampling) data in a oneliner.\n",
    "    # example in MNIST 1 \n",
    "\n",
    "# for creating a stratified sample\n",
    "from sklearn.model_selection import StratifiedKFold \n",
    "from sklearn.model_selection import StratifiedShuffleSplit  \n",
    " \n",
    "from sklearn.impute import SimpleImputer\n",
    "    # impute missing values in a df\n",
    "from sklearn.pipeline import Pipeline\n",
    "    # for creating pipelines while performing data transformations on a df\n",
    "from sklearn.compose import ColumnTransformer\n",
    "    # transform feature data types\n",
    "from sklearn.base import clone \n",
    "    # to clone data frames\n",
    "from sklearn.preprocessing import StandardScaler\n",
    "    # Feature scaling\n",
    "from sklearn.preprocessing import OneHotEncoder\n",
    "    # Put variables in an array for doing data transformations\n",
    "from sklearn.preprocessing import PolynomialFeatures \n",
    "    # Use for creating polynomial variables\n",
    "\n",
    "from sklearn.metrics import confusion_matrix \n",
    "    # get confusion matrix of TP, FP, FN, and TN\n",
    "from sklearn.metrics import accuracy_score\n",
    "from sklearn.metrics import precision_score, recall_score\n",
    "from sklearn.metrics import f1_score\n",
    "from sklearn.metrics import mean_squared_error\n",
    "    # get RMSE\n",
    "\n",
    "# Get different types of classifier/regression algorithms\n",
    "from sklearn.tree import DecisionTreeClassifier\n",
    "from sklearn.ensemble import RandomForestClassifier\n",
    "\n",
    "from sklearn.linear_model import SGDClassifier\n",
    "# types of regression algorithms - random forest is one too for ensemble learning (v powerful)\n",
    "    # include random_state parameter if algorithm requires randomness\n",
    "from sklearn.linear_model import LogisticRegression\n",
    "from sklearn.linear_model import LinearRegression\n",
    "from sklearn.linear_model import SGDRegressor\n",
    "    # If you want to run stochastic gradient descent on a linear regression\n",
    "\n",
    "from sklearn.model_selection import cross_val_score \n",
    "    # to get accuracy score\n",
    "from sklearn.model_selection import cross_val_predict \n",
    "    # to predict \n",
    "    # use after creating stratified sample "
   ]
  },
  {
   "cell_type": "markdown",
   "id": "e8b76a57",
   "metadata": {},
   "source": [
    "# Problem 1\n",
    "\n",
    "Generate data using the code provided below. \n",
    "\n",
    "Estimate a Decision Tree classifier\n",
    "with $max depth$ as the regulazing parameter. Through crossvalidation, estimate the best $max depth$ parameter you are able to find, and explain your reasoning. \n",
    "\n",
    "*Make any extra assumptions you think are necessary to answer this question. Your own individual assumptions and reasoning will be graded.*\n"
   ]
  },
  {
   "cell_type": "code",
   "execution_count": 457,
   "id": "e79fe901",
   "metadata": {},
   "outputs": [
    {
     "data": {
      "text/plain": [
       "(155, 2)"
      ]
     },
     "execution_count": 457,
     "metadata": {},
     "output_type": "execute_result"
    }
   ],
   "source": [
    "from sklearn.datasets import make_moons\n",
    "Xm, ym = make_moons(n_samples=Mynumber, noise=0.25, random_state=Mynumber)\n",
    "\n",
    "Xm.shape"
   ]
  },
  {
   "cell_type": "code",
   "execution_count": 458,
   "id": "dae8f098",
   "metadata": {},
   "outputs": [
    {
     "data": {
      "text/plain": [
       "(155,)"
      ]
     },
     "execution_count": 458,
     "metadata": {},
     "output_type": "execute_result"
    }
   ],
   "source": [
    "ym.shape"
   ]
  },
  {
   "cell_type": "code",
   "execution_count": 476,
   "id": "ae0478ce",
   "metadata": {},
   "outputs": [],
   "source": [
    "from sklearn.model_selection import train_test_split\n",
    "\n",
    "X_train, X_test, y_train, y_test = train_test_split(Xm, ym, test_size=0.4, random_state=Mynumber)"
   ]
  },
  {
   "cell_type": "code",
   "execution_count": 477,
   "id": "68ab39ea",
   "metadata": {},
   "outputs": [
    {
     "name": "stdout",
     "output_type": "stream",
     "text": [
      "Proportion of X Train Data: 0.93\n",
      "Proportion of X Test Data: 0.62\n"
     ]
    }
   ],
   "source": [
    "print(\"Proportion of X Train Data: \" + str((len(X_train)/len(X))))\n",
    "print(\"Proportion of X Test Data: \" + str(len(X_test)/len(X)))"
   ]
  },
  {
   "cell_type": "code",
   "execution_count": null,
   "id": "916d9421",
   "metadata": {},
   "outputs": [],
   "source": [
    "# Cross validation max depth = 2"
   ]
  },
  {
   "cell_type": "code",
   "execution_count": 490,
   "id": "fb8682e3",
   "metadata": {},
   "outputs": [
    {
     "data": {
      "text/plain": [
       "DecisionTreeClassifier(max_depth=2, random_state=42)"
      ]
     },
     "execution_count": 490,
     "metadata": {},
     "output_type": "execute_result"
    }
   ],
   "source": [
    "from sklearn.tree import DecisionTreeClassifier\n",
    "tree_clf = DecisionTreeClassifier(max_depth=2, random_state=42)\n",
    "tree_clf.fit(X_train, y_train)"
   ]
  },
  {
   "cell_type": "code",
   "execution_count": 492,
   "id": "2b6efed9",
   "metadata": {},
   "outputs": [],
   "source": [
    "y_predict = tree_clf.predict(X_test)"
   ]
  },
  {
   "cell_type": "code",
   "execution_count": 493,
   "id": "2b19d3c9",
   "metadata": {},
   "outputs": [
    {
     "data": {
      "text/plain": [
       "array([0.95238095, 1.        , 0.95      ])"
      ]
     },
     "execution_count": 493,
     "metadata": {},
     "output_type": "execute_result"
    }
   ],
   "source": [
    "# Get accuracy score of new predictions\n",
    "from sklearn.model_selection import cross_val_score\n",
    "cross_val_score(tree_clf, X_test, y_predict, cv=3, scoring=\"accuracy\")"
   ]
  },
  {
   "cell_type": "code",
   "execution_count": 494,
   "id": "81575775",
   "metadata": {},
   "outputs": [
    {
     "data": {
      "text/plain": [
       "array([0.94230769, 0.84615385, 0.88235294])"
      ]
     },
     "execution_count": 494,
     "metadata": {},
     "output_type": "execute_result"
    }
   ],
   "source": [
    "# Compare to all data\n",
    "from sklearn.model_selection import cross_val_score\n",
    "cross_val_score(tree_clf, Xm, ym, cv=3, scoring=\"accuracy\")"
   ]
  },
  {
   "cell_type": "code",
   "execution_count": 514,
   "id": "b385a75c",
   "metadata": {},
   "outputs": [],
   "source": [
    "# Cross validation max depth = 3"
   ]
  },
  {
   "cell_type": "code",
   "execution_count": 515,
   "id": "55173a86",
   "metadata": {},
   "outputs": [
    {
     "data": {
      "text/plain": [
       "DecisionTreeClassifier(max_depth=3, random_state=155)"
      ]
     },
     "execution_count": 515,
     "metadata": {},
     "output_type": "execute_result"
    }
   ],
   "source": [
    "from sklearn.tree import DecisionTreeClassifier\n",
    "tree_clf = DecisionTreeClassifier(max_depth=3, random_state=Mynumber)\n",
    "tree_clf.fit(X_train, y_train)"
   ]
  },
  {
   "cell_type": "code",
   "execution_count": 497,
   "id": "cd0339bf",
   "metadata": {},
   "outputs": [],
   "source": [
    "y_predict = tree_clf.predict(X_test)"
   ]
  },
  {
   "cell_type": "code",
   "execution_count": 498,
   "id": "0288f4da",
   "metadata": {},
   "outputs": [
    {
     "data": {
      "text/plain": [
       "array([0.95238095, 1.        , 0.95      ])"
      ]
     },
     "execution_count": 498,
     "metadata": {},
     "output_type": "execute_result"
    }
   ],
   "source": [
    "# Calculate accuracy scores for testing data\n",
    "from sklearn.model_selection import cross_val_score\n",
    "cross_val_score(tree_clf, X_test, y_predict, cv=3, scoring=\"accuracy\")"
   ]
  },
  {
   "cell_type": "code",
   "execution_count": 499,
   "id": "99d12cd7",
   "metadata": {},
   "outputs": [
    {
     "data": {
      "text/plain": [
       "array([0.92307692, 0.82692308, 0.8627451 ])"
      ]
     },
     "execution_count": 499,
     "metadata": {},
     "output_type": "execute_result"
    }
   ],
   "source": [
    "# Compare to all data\n",
    "from sklearn.model_selection import cross_val_score\n",
    "cross_val_score(tree_clf, Xm, ym, cv=3, scoring=\"accuracy\")"
   ]
  },
  {
   "cell_type": "code",
   "execution_count": 516,
   "id": "c56222ac",
   "metadata": {},
   "outputs": [],
   "source": [
    "# Cross validation max depth = 4"
   ]
  },
  {
   "cell_type": "code",
   "execution_count": 510,
   "id": "5e53b452",
   "metadata": {},
   "outputs": [
    {
     "data": {
      "text/plain": [
       "DecisionTreeClassifier(max_depth=4, random_state=155)"
      ]
     },
     "execution_count": 510,
     "metadata": {},
     "output_type": "execute_result"
    }
   ],
   "source": [
    "from sklearn.tree import DecisionTreeClassifier\n",
    "tree_clf = DecisionTreeClassifier(max_depth=4, random_state=Mynumber)\n",
    "tree_clf.fit(X_train, y_train)"
   ]
  },
  {
   "cell_type": "code",
   "execution_count": 511,
   "id": "37c0e206",
   "metadata": {},
   "outputs": [],
   "source": [
    "y_predict = tree_clf.predict(X_test)"
   ]
  },
  {
   "cell_type": "code",
   "execution_count": 512,
   "id": "84fcf108",
   "metadata": {},
   "outputs": [
    {
     "data": {
      "text/plain": [
       "array([0.85714286, 0.95238095, 0.85      ])"
      ]
     },
     "execution_count": 512,
     "metadata": {},
     "output_type": "execute_result"
    }
   ],
   "source": [
    "# Get accuracy score of new predictions\n",
    "from sklearn.model_selection import cross_val_score\n",
    "cross_val_score(tree_clf, X_test, y_predict, cv=3, scoring=\"accuracy\")"
   ]
  },
  {
   "cell_type": "code",
   "execution_count": 513,
   "id": "3d9607d9",
   "metadata": {},
   "outputs": [
    {
     "data": {
      "text/plain": [
       "array([0.92307692, 0.82692308, 0.8627451 ])"
      ]
     },
     "execution_count": 513,
     "metadata": {},
     "output_type": "execute_result"
    }
   ],
   "source": [
    "# Compare to all data\n",
    "from sklearn.model_selection import cross_val_score\n",
    "cross_val_score(tree_clf, Xm, ym, cv=3, scoring=\"accuracy\")"
   ]
  },
  {
   "cell_type": "code",
   "execution_count": null,
   "id": "6ae31077",
   "metadata": {},
   "outputs": [],
   "source": [
    "# Cross validation max depth = 5\n"
   ]
  },
  {
   "cell_type": "code",
   "execution_count": 522,
   "id": "bbd274f1",
   "metadata": {},
   "outputs": [
    {
     "data": {
      "text/plain": [
       "DecisionTreeClassifier(max_depth=7, random_state=155)"
      ]
     },
     "execution_count": 522,
     "metadata": {},
     "output_type": "execute_result"
    }
   ],
   "source": [
    "from sklearn.tree import DecisionTreeClassifier\n",
    "tree_clf = DecisionTreeClassifier(max_depth=7, random_state=Mynumber)\n",
    "tree_clf.fit(X_train, y_train)"
   ]
  },
  {
   "cell_type": "code",
   "execution_count": 523,
   "id": "007c0c51",
   "metadata": {},
   "outputs": [],
   "source": [
    "y_predict = tree_clf.predict(X_test)"
   ]
  },
  {
   "cell_type": "code",
   "execution_count": 524,
   "id": "8bea2845",
   "metadata": {},
   "outputs": [
    {
     "data": {
      "text/plain": [
       "array([0.85714286, 0.9047619 , 0.85      ])"
      ]
     },
     "execution_count": 524,
     "metadata": {},
     "output_type": "execute_result"
    }
   ],
   "source": [
    "# Get accuracy score of new predictions\n",
    "from sklearn.model_selection import cross_val_score\n",
    "cross_val_score(tree_clf, X_test, y_predict, cv=3, scoring=\"accuracy\")"
   ]
  },
  {
   "cell_type": "code",
   "execution_count": 521,
   "id": "ed8ff328",
   "metadata": {},
   "outputs": [
    {
     "data": {
      "text/plain": [
       "array([0.92307692, 0.86538462, 0.92156863])"
      ]
     },
     "execution_count": 521,
     "metadata": {},
     "output_type": "execute_result"
    }
   ],
   "source": [
    "# Compare to all data\n",
    "from sklearn.model_selection import cross_val_score\n",
    "cross_val_score(tree_clf, Xm, ym, cv=3, scoring=\"accuracy\")"
   ]
  },
  {
   "cell_type": "markdown",
   "id": "d34cb5a0",
   "metadata": {},
   "source": [
    "Maxdepth = 3 performed the best as its accuracy score for the predicted y values and the for the regressor were the highest."
   ]
  },
  {
   "cell_type": "markdown",
   "id": "9a5a3715",
   "metadata": {},
   "source": [
    "# Problem 2\n",
    "\n",
    "Load the MNIST digits data. \n",
    "\n",
    "Divide the data between those equal or greater than five, and those less than five.\n"
   ]
  },
  {
   "cell_type": "code",
   "execution_count": 14,
   "id": "ca7ece53",
   "metadata": {},
   "outputs": [
    {
     "data": {
      "text/plain": [
       "dict_keys(['data', 'target', 'frame', 'categories', 'feature_names', 'target_names', 'DESCR', 'details', 'url'])"
      ]
     },
     "execution_count": 14,
     "metadata": {},
     "output_type": "execute_result"
    }
   ],
   "source": [
    "# MNIST Data Set\n",
    "\n",
    "from sklearn.datasets import fetch_openml\n",
    "mnist = fetch_openml('mnist_784', version=1)\n",
    "mnist.keys()"
   ]
  },
  {
   "cell_type": "code",
   "execution_count": 21,
   "id": "02e14f75",
   "metadata": {},
   "outputs": [],
   "source": [
    "X, y = mnist[\"data\"], mnist[\"target\"]\n",
    "X=X.values\n",
    "\n",
    "import numpy as np\n",
    "np.random.seed(123)\n",
    "y = y.astype(np.uint8)\n"
   ]
  },
  {
   "cell_type": "code",
   "execution_count": 26,
   "id": "bc7563c5",
   "metadata": {},
   "outputs": [],
   "source": [
    "# Divide the data between those equal or greater than five, and those less than five."
   ]
  },
  {
   "cell_type": "code",
   "execution_count": 27,
   "id": "f6dc50dc",
   "metadata": {},
   "outputs": [],
   "source": [
    "y_ge_5 = (y>=5) "
   ]
  },
  {
   "cell_type": "code",
   "execution_count": 37,
   "id": "9cb55563",
   "metadata": {},
   "outputs": [
    {
     "data": {
      "text/plain": [
       "0         True\n",
       "1        False\n",
       "2        False\n",
       "3        False\n",
       "4         True\n",
       "         ...  \n",
       "69995    False\n",
       "69996    False\n",
       "69997    False\n",
       "69998     True\n",
       "69999     True\n",
       "Name: class, Length: 70000, dtype: bool"
      ]
     },
     "execution_count": 37,
     "metadata": {},
     "output_type": "execute_result"
    }
   ],
   "source": [
    "y_ge_5"
   ]
  },
  {
   "cell_type": "code",
   "execution_count": 38,
   "id": "5a0d4920",
   "metadata": {},
   "outputs": [
    {
     "data": {
      "text/plain": [
       "pandas.core.series.Series"
      ]
     },
     "execution_count": 38,
     "metadata": {},
     "output_type": "execute_result"
    }
   ],
   "source": [
    "type(y_ge_5)"
   ]
  },
  {
   "cell_type": "code",
   "execution_count": 39,
   "id": "9a98aaad",
   "metadata": {},
   "outputs": [],
   "source": [
    "from sklearn.preprocessing import StandardScaler\n",
    "scaler = StandardScaler()\n",
    "scaler.fit(X)\n",
    "X = scaler.transform(X)"
   ]
  },
  {
   "cell_type": "markdown",
   "id": "babbf9a4",
   "metadata": {},
   "source": [
    "### Part 1\n",
    "Partitioning the data between a training and testing set, and using an SGDClassifier, predict that the number is equal or greater than five. Test the algorithm performance on the testing set.\n",
    "\n"
   ]
  },
  {
   "cell_type": "code",
   "execution_count": 48,
   "id": "b8cc010b",
   "metadata": {},
   "outputs": [],
   "source": [
    "X_train, X_test, y_train, y_test = train_test_split(X, y, random_state=123, test_size=0.3)"
   ]
  },
  {
   "cell_type": "code",
   "execution_count": 52,
   "id": "c617d1bd",
   "metadata": {},
   "outputs": [],
   "source": [
    "y_train_ge_5 = (y_train>=5) \n",
    "y_test_ge_5 = (y_test >=5)  "
   ]
  },
  {
   "cell_type": "code",
   "execution_count": 53,
   "id": "b2c14ab9",
   "metadata": {},
   "outputs": [
    {
     "name": "stderr",
     "output_type": "stream",
     "text": [
      "/Users/mwaldo/opt/anaconda3/lib/python3.9/site-packages/sklearn/linear_model/_stochastic_gradient.py:696: ConvergenceWarning: Maximum number of iteration reached before convergence. Consider increasing max_iter to improve the fit.\n",
      "  warnings.warn(\n"
     ]
    },
    {
     "data": {
      "text/plain": [
       "SGDClassifier(max_iter=20, random_state=42)"
      ]
     },
     "execution_count": 53,
     "metadata": {},
     "output_type": "execute_result"
    }
   ],
   "source": [
    "from sklearn.linear_model import SGDClassifier\n",
    "\n",
    "sgd_clf = SGDClassifier(max_iter=20, random_state=42)\n",
    "\n",
    "sgd_clf.fit(X_test, y_test_ge_5)"
   ]
  },
  {
   "cell_type": "code",
   "execution_count": 54,
   "id": "11b58c57",
   "metadata": {},
   "outputs": [
    {
     "name": "stderr",
     "output_type": "stream",
     "text": [
      "/Users/mwaldo/opt/anaconda3/lib/python3.9/site-packages/sklearn/linear_model/_stochastic_gradient.py:696: ConvergenceWarning: Maximum number of iteration reached before convergence. Consider increasing max_iter to improve the fit.\n",
      "  warnings.warn(\n",
      "/Users/mwaldo/opt/anaconda3/lib/python3.9/site-packages/sklearn/linear_model/_stochastic_gradient.py:696: ConvergenceWarning: Maximum number of iteration reached before convergence. Consider increasing max_iter to improve the fit.\n",
      "  warnings.warn(\n",
      "/Users/mwaldo/opt/anaconda3/lib/python3.9/site-packages/sklearn/linear_model/_stochastic_gradient.py:696: ConvergenceWarning: Maximum number of iteration reached before convergence. Consider increasing max_iter to improve the fit.\n",
      "  warnings.warn(\n"
     ]
    },
    {
     "data": {
      "text/plain": [
       "array([0.81714286, 0.81028571, 0.82528571])"
      ]
     },
     "execution_count": 54,
     "metadata": {},
     "output_type": "execute_result"
    }
   ],
   "source": [
    "from sklearn.model_selection import cross_val_score\n",
    "cross_val_score(sgd_clf, X_test, y_test_ge_5, cv=3, scoring=\"accuracy\")"
   ]
  },
  {
   "cell_type": "markdown",
   "id": "125a699f",
   "metadata": {},
   "source": [
    "Algorithm performs with 81% accuracy"
   ]
  },
  {
   "cell_type": "markdown",
   "id": "1ca95ea7",
   "metadata": {},
   "source": [
    "### Part 2\n",
    "Using the code outputs the individual thresholds for each observation to be classified as True. Use different values of a threshold to show how the precision score and the recall score have an inverse relationship.\n",
    "\n",
    "\n",
    "*Make any extra assumptions you think are necessary to answer this question.*"
   ]
  },
  {
   "cell_type": "code",
   "execution_count": 69,
   "id": "9d0eb50a",
   "metadata": {},
   "outputs": [],
   "source": [
    "from sklearn.model_selection import StratifiedKFold\n",
    "from sklearn.base import clone"
   ]
  },
  {
   "cell_type": "code",
   "execution_count": 70,
   "id": "930cd3ec",
   "metadata": {},
   "outputs": [
    {
     "name": "stderr",
     "output_type": "stream",
     "text": [
      "/Users/mwaldo/opt/anaconda3/lib/python3.9/site-packages/sklearn/linear_model/_stochastic_gradient.py:696: ConvergenceWarning: Maximum number of iteration reached before convergence. Consider increasing max_iter to improve the fit.\n",
      "  warnings.warn(\n",
      "/Users/mwaldo/opt/anaconda3/lib/python3.9/site-packages/sklearn/linear_model/_stochastic_gradient.py:696: ConvergenceWarning: Maximum number of iteration reached before convergence. Consider increasing max_iter to improve the fit.\n",
      "  warnings.warn(\n",
      "/Users/mwaldo/opt/anaconda3/lib/python3.9/site-packages/sklearn/linear_model/_stochastic_gradient.py:696: ConvergenceWarning: Maximum number of iteration reached before convergence. Consider increasing max_iter to improve the fit.\n",
      "  warnings.warn(\n"
     ]
    }
   ],
   "source": [
    "from sklearn.model_selection import cross_val_predict\n",
    "y_train_pred = cross_val_predict(sgd_clf, X_test, y_test_ge_5, cv=3)"
   ]
  },
  {
   "cell_type": "code",
   "execution_count": 71,
   "id": "2ebda7fb",
   "metadata": {},
   "outputs": [],
   "source": [
    "from sklearn.metrics import precision_score, recall_score"
   ]
  },
  {
   "cell_type": "code",
   "execution_count": 72,
   "id": "68ec195b",
   "metadata": {},
   "outputs": [],
   "source": [
    "y_scores = sgd_clf.decision_function(X_test)"
   ]
  },
  {
   "cell_type": "code",
   "execution_count": 77,
   "id": "360988e5",
   "metadata": {},
   "outputs": [],
   "source": [
    "threshold1 = 3\n",
    "y_test_pred = (y_scores > threshold1)\n",
    "pre=precision_score(y_test_ge_5, y_test_pred)\n",
    "rec=recall_score(y_test_ge_5, y_test_pred)\n"
   ]
  },
  {
   "cell_type": "code",
   "execution_count": 78,
   "id": "5da7a046",
   "metadata": {},
   "outputs": [
    {
     "name": "stdout",
     "output_type": "stream",
     "text": [
      "0.8771000112752283 0.7536330168571982\n"
     ]
    }
   ],
   "source": [
    "print(pre,rec)"
   ]
  },
  {
   "cell_type": "markdown",
   "id": "ac032d95",
   "metadata": {},
   "source": [
    "At a threshold of 3, precision is 87% and recall is 75%"
   ]
  },
  {
   "cell_type": "code",
   "execution_count": 79,
   "id": "fac48e51",
   "metadata": {},
   "outputs": [
    {
     "name": "stdout",
     "output_type": "stream",
     "text": [
      "0.5424957662997459 0.9931214880837047\n"
     ]
    }
   ],
   "source": [
    "threshold2 = -20\n",
    "y_test_pred = (y_scores > threshold2)\n",
    "pre=precision_score(y_test_ge_5, y_test_pred)\n",
    "rec=recall_score(y_test_ge_5, y_test_pred)\n",
    "print(pre,rec)"
   ]
  },
  {
   "cell_type": "markdown",
   "id": "c7cbec91",
   "metadata": {},
   "source": [
    "At a threshold of -20, precision is 54% and recall is 99%"
   ]
  },
  {
   "cell_type": "code",
   "execution_count": 80,
   "id": "15f31650",
   "metadata": {},
   "outputs": [
    {
     "name": "stdout",
     "output_type": "stream",
     "text": [
      "0.9766081871345029 0.016179035070722728\n"
     ]
    }
   ],
   "source": [
    "threshold2 = 100\n",
    "y_test_pred = (y_scores > threshold2)\n",
    "pre=precision_score(y_test_ge_5, y_test_pred)\n",
    "rec=recall_score(y_test_ge_5, y_test_pred)\n",
    "print(pre,rec)"
   ]
  },
  {
   "cell_type": "markdown",
   "id": "6975d49d",
   "metadata": {},
   "source": [
    "At a threshold of 100, precision is 97% and recall is 1.6%"
   ]
  },
  {
   "cell_type": "markdown",
   "id": "008d7235",
   "metadata": {},
   "source": [
    "# Problem 3\n",
    "\n",
    "Load the CA housing data set.  Use TWO algorithms to predict median_income. Make all the data transformations needed and report results.\n",
    "\n",
    "*There are many ways to achieve this, so there are many correct answers.*\n",
    "*Make any extra assumptions you think are necessary to answer this question.*\n"
   ]
  },
  {
   "cell_type": "code",
   "execution_count": 226,
   "id": "cdb54306",
   "metadata": {},
   "outputs": [],
   "source": [
    "# CA Housing Data Set\n",
    "\n",
    "DOWNLOAD_ROOT = \"https://raw.githubusercontent.com/ageron/handson-ml2/master/\"\n",
    "HOUSING_PATH = os.path.join(\"datasets\", \"housing\")\n",
    "HOUSING_URL = DOWNLOAD_ROOT + \"datasets/housing/housing.tgz\"\n",
    "\n",
    "def fetch_housing_data(housing_url=HOUSING_URL, housing_path=HOUSING_PATH):\n",
    "    if not os.path.isdir(housing_path):\n",
    "        os.makedirs(housing_path)\n",
    "    tgz_path = os.path.join(housing_path, \"housing.tgz\")\n",
    "    urllib.request.urlretrieve(housing_url, tgz_path)\n",
    "    housing_tgz = tarfile.open(tgz_path)\n",
    "    housing_tgz.extractall(path=housing_path)\n",
    "    housing_tgz.close()\n",
    "fetch_housing_data()\n",
    "import pandas as pd\n",
    "\n",
    "def load_housing_data(housing_path=HOUSING_PATH):\n",
    "    csv_path = os.path.join(housing_path, \"housing.csv\")\n",
    "    return pd.read_csv(csv_path)\n",
    "\n",
    "housing = load_housing_data()\n"
   ]
  },
  {
   "cell_type": "code",
   "execution_count": 227,
   "id": "35489cb0",
   "metadata": {},
   "outputs": [
    {
     "data": {
      "text/html": [
       "<div>\n",
       "<style scoped>\n",
       "    .dataframe tbody tr th:only-of-type {\n",
       "        vertical-align: middle;\n",
       "    }\n",
       "\n",
       "    .dataframe tbody tr th {\n",
       "        vertical-align: top;\n",
       "    }\n",
       "\n",
       "    .dataframe thead th {\n",
       "        text-align: right;\n",
       "    }\n",
       "</style>\n",
       "<table border=\"1\" class=\"dataframe\">\n",
       "  <thead>\n",
       "    <tr style=\"text-align: right;\">\n",
       "      <th></th>\n",
       "      <th>longitude</th>\n",
       "      <th>latitude</th>\n",
       "      <th>housing_median_age</th>\n",
       "      <th>total_rooms</th>\n",
       "      <th>total_bedrooms</th>\n",
       "      <th>population</th>\n",
       "      <th>households</th>\n",
       "      <th>median_income</th>\n",
       "      <th>median_house_value</th>\n",
       "    </tr>\n",
       "  </thead>\n",
       "  <tbody>\n",
       "    <tr>\n",
       "      <th>count</th>\n",
       "      <td>20640.000000</td>\n",
       "      <td>20640.000000</td>\n",
       "      <td>20640.000000</td>\n",
       "      <td>20640.000000</td>\n",
       "      <td>20433.000000</td>\n",
       "      <td>20640.000000</td>\n",
       "      <td>20640.000000</td>\n",
       "      <td>20640.000000</td>\n",
       "      <td>20640.000000</td>\n",
       "    </tr>\n",
       "    <tr>\n",
       "      <th>mean</th>\n",
       "      <td>-119.569704</td>\n",
       "      <td>35.631861</td>\n",
       "      <td>28.639486</td>\n",
       "      <td>2635.763081</td>\n",
       "      <td>537.870553</td>\n",
       "      <td>1425.476744</td>\n",
       "      <td>499.539680</td>\n",
       "      <td>3.870671</td>\n",
       "      <td>206855.816909</td>\n",
       "    </tr>\n",
       "    <tr>\n",
       "      <th>std</th>\n",
       "      <td>2.003532</td>\n",
       "      <td>2.135952</td>\n",
       "      <td>12.585558</td>\n",
       "      <td>2181.615252</td>\n",
       "      <td>421.385070</td>\n",
       "      <td>1132.462122</td>\n",
       "      <td>382.329753</td>\n",
       "      <td>1.899822</td>\n",
       "      <td>115395.615874</td>\n",
       "    </tr>\n",
       "    <tr>\n",
       "      <th>min</th>\n",
       "      <td>-124.350000</td>\n",
       "      <td>32.540000</td>\n",
       "      <td>1.000000</td>\n",
       "      <td>2.000000</td>\n",
       "      <td>1.000000</td>\n",
       "      <td>3.000000</td>\n",
       "      <td>1.000000</td>\n",
       "      <td>0.499900</td>\n",
       "      <td>14999.000000</td>\n",
       "    </tr>\n",
       "    <tr>\n",
       "      <th>25%</th>\n",
       "      <td>-121.800000</td>\n",
       "      <td>33.930000</td>\n",
       "      <td>18.000000</td>\n",
       "      <td>1447.750000</td>\n",
       "      <td>296.000000</td>\n",
       "      <td>787.000000</td>\n",
       "      <td>280.000000</td>\n",
       "      <td>2.563400</td>\n",
       "      <td>119600.000000</td>\n",
       "    </tr>\n",
       "    <tr>\n",
       "      <th>50%</th>\n",
       "      <td>-118.490000</td>\n",
       "      <td>34.260000</td>\n",
       "      <td>29.000000</td>\n",
       "      <td>2127.000000</td>\n",
       "      <td>435.000000</td>\n",
       "      <td>1166.000000</td>\n",
       "      <td>409.000000</td>\n",
       "      <td>3.534800</td>\n",
       "      <td>179700.000000</td>\n",
       "    </tr>\n",
       "    <tr>\n",
       "      <th>75%</th>\n",
       "      <td>-118.010000</td>\n",
       "      <td>37.710000</td>\n",
       "      <td>37.000000</td>\n",
       "      <td>3148.000000</td>\n",
       "      <td>647.000000</td>\n",
       "      <td>1725.000000</td>\n",
       "      <td>605.000000</td>\n",
       "      <td>4.743250</td>\n",
       "      <td>264725.000000</td>\n",
       "    </tr>\n",
       "    <tr>\n",
       "      <th>max</th>\n",
       "      <td>-114.310000</td>\n",
       "      <td>41.950000</td>\n",
       "      <td>52.000000</td>\n",
       "      <td>39320.000000</td>\n",
       "      <td>6445.000000</td>\n",
       "      <td>35682.000000</td>\n",
       "      <td>6082.000000</td>\n",
       "      <td>15.000100</td>\n",
       "      <td>500001.000000</td>\n",
       "    </tr>\n",
       "  </tbody>\n",
       "</table>\n",
       "</div>"
      ],
      "text/plain": [
       "          longitude      latitude  housing_median_age   total_rooms  \\\n",
       "count  20640.000000  20640.000000        20640.000000  20640.000000   \n",
       "mean    -119.569704     35.631861           28.639486   2635.763081   \n",
       "std        2.003532      2.135952           12.585558   2181.615252   \n",
       "min     -124.350000     32.540000            1.000000      2.000000   \n",
       "25%     -121.800000     33.930000           18.000000   1447.750000   \n",
       "50%     -118.490000     34.260000           29.000000   2127.000000   \n",
       "75%     -118.010000     37.710000           37.000000   3148.000000   \n",
       "max     -114.310000     41.950000           52.000000  39320.000000   \n",
       "\n",
       "       total_bedrooms    population    households  median_income  \\\n",
       "count    20433.000000  20640.000000  20640.000000   20640.000000   \n",
       "mean       537.870553   1425.476744    499.539680       3.870671   \n",
       "std        421.385070   1132.462122    382.329753       1.899822   \n",
       "min          1.000000      3.000000      1.000000       0.499900   \n",
       "25%        296.000000    787.000000    280.000000       2.563400   \n",
       "50%        435.000000   1166.000000    409.000000       3.534800   \n",
       "75%        647.000000   1725.000000    605.000000       4.743250   \n",
       "max       6445.000000  35682.000000   6082.000000      15.000100   \n",
       "\n",
       "       median_house_value  \n",
       "count        20640.000000  \n",
       "mean        206855.816909  \n",
       "std         115395.615874  \n",
       "min          14999.000000  \n",
       "25%         119600.000000  \n",
       "50%         179700.000000  \n",
       "75%         264725.000000  \n",
       "max         500001.000000  "
      ]
     },
     "execution_count": 227,
     "metadata": {},
     "output_type": "execute_result"
    }
   ],
   "source": [
    "# Describe range of values in each df feature\n",
    "housing.describe()"
   ]
  },
  {
   "cell_type": "code",
   "execution_count": 228,
   "id": "12767839",
   "metadata": {},
   "outputs": [
    {
     "name": "stdout",
     "output_type": "stream",
     "text": [
      "<class 'pandas.core.frame.DataFrame'>\n",
      "RangeIndex: 20640 entries, 0 to 20639\n",
      "Data columns (total 10 columns):\n",
      " #   Column              Non-Null Count  Dtype  \n",
      "---  ------              --------------  -----  \n",
      " 0   longitude           20640 non-null  float64\n",
      " 1   latitude            20640 non-null  float64\n",
      " 2   housing_median_age  20640 non-null  float64\n",
      " 3   total_rooms         20640 non-null  float64\n",
      " 4   total_bedrooms      20433 non-null  float64\n",
      " 5   population          20640 non-null  float64\n",
      " 6   households          20640 non-null  float64\n",
      " 7   median_income       20640 non-null  float64\n",
      " 8   median_house_value  20640 non-null  float64\n",
      " 9   ocean_proximity     20640 non-null  object \n",
      "dtypes: float64(9), object(1)\n",
      "memory usage: 1.6+ MB\n"
     ]
    }
   ],
   "source": [
    "# Describe the data types of each feature in the df\n",
    "housing.info()"
   ]
  },
  {
   "cell_type": "code",
   "execution_count": 229,
   "id": "19c495f0",
   "metadata": {},
   "outputs": [
    {
     "data": {
      "text/html": [
       "<div>\n",
       "<style scoped>\n",
       "    .dataframe tbody tr th:only-of-type {\n",
       "        vertical-align: middle;\n",
       "    }\n",
       "\n",
       "    .dataframe tbody tr th {\n",
       "        vertical-align: top;\n",
       "    }\n",
       "\n",
       "    .dataframe thead th {\n",
       "        text-align: right;\n",
       "    }\n",
       "</style>\n",
       "<table border=\"1\" class=\"dataframe\">\n",
       "  <thead>\n",
       "    <tr style=\"text-align: right;\">\n",
       "      <th></th>\n",
       "      <th>longitude</th>\n",
       "      <th>latitude</th>\n",
       "      <th>housing_median_age</th>\n",
       "      <th>total_rooms</th>\n",
       "      <th>total_bedrooms</th>\n",
       "      <th>population</th>\n",
       "      <th>households</th>\n",
       "      <th>median_income</th>\n",
       "      <th>median_house_value</th>\n",
       "      <th>ocean_proximity</th>\n",
       "    </tr>\n",
       "  </thead>\n",
       "  <tbody>\n",
       "    <tr>\n",
       "      <th>290</th>\n",
       "      <td>-122.16</td>\n",
       "      <td>37.77</td>\n",
       "      <td>47.0</td>\n",
       "      <td>1256.0</td>\n",
       "      <td>NaN</td>\n",
       "      <td>570.0</td>\n",
       "      <td>218.0</td>\n",
       "      <td>4.3750</td>\n",
       "      <td>161900.0</td>\n",
       "      <td>NEAR BAY</td>\n",
       "    </tr>\n",
       "    <tr>\n",
       "      <th>341</th>\n",
       "      <td>-122.17</td>\n",
       "      <td>37.75</td>\n",
       "      <td>38.0</td>\n",
       "      <td>992.0</td>\n",
       "      <td>NaN</td>\n",
       "      <td>732.0</td>\n",
       "      <td>259.0</td>\n",
       "      <td>1.6196</td>\n",
       "      <td>85100.0</td>\n",
       "      <td>NEAR BAY</td>\n",
       "    </tr>\n",
       "    <tr>\n",
       "      <th>538</th>\n",
       "      <td>-122.28</td>\n",
       "      <td>37.78</td>\n",
       "      <td>29.0</td>\n",
       "      <td>5154.0</td>\n",
       "      <td>NaN</td>\n",
       "      <td>3741.0</td>\n",
       "      <td>1273.0</td>\n",
       "      <td>2.5762</td>\n",
       "      <td>173400.0</td>\n",
       "      <td>NEAR BAY</td>\n",
       "    </tr>\n",
       "    <tr>\n",
       "      <th>563</th>\n",
       "      <td>-122.24</td>\n",
       "      <td>37.75</td>\n",
       "      <td>45.0</td>\n",
       "      <td>891.0</td>\n",
       "      <td>NaN</td>\n",
       "      <td>384.0</td>\n",
       "      <td>146.0</td>\n",
       "      <td>4.9489</td>\n",
       "      <td>247100.0</td>\n",
       "      <td>NEAR BAY</td>\n",
       "    </tr>\n",
       "    <tr>\n",
       "      <th>696</th>\n",
       "      <td>-122.10</td>\n",
       "      <td>37.69</td>\n",
       "      <td>41.0</td>\n",
       "      <td>746.0</td>\n",
       "      <td>NaN</td>\n",
       "      <td>387.0</td>\n",
       "      <td>161.0</td>\n",
       "      <td>3.9063</td>\n",
       "      <td>178400.0</td>\n",
       "      <td>NEAR BAY</td>\n",
       "    </tr>\n",
       "    <tr>\n",
       "      <th>...</th>\n",
       "      <td>...</td>\n",
       "      <td>...</td>\n",
       "      <td>...</td>\n",
       "      <td>...</td>\n",
       "      <td>...</td>\n",
       "      <td>...</td>\n",
       "      <td>...</td>\n",
       "      <td>...</td>\n",
       "      <td>...</td>\n",
       "      <td>...</td>\n",
       "    </tr>\n",
       "    <tr>\n",
       "      <th>20267</th>\n",
       "      <td>-119.19</td>\n",
       "      <td>34.20</td>\n",
       "      <td>18.0</td>\n",
       "      <td>3620.0</td>\n",
       "      <td>NaN</td>\n",
       "      <td>3171.0</td>\n",
       "      <td>779.0</td>\n",
       "      <td>3.3409</td>\n",
       "      <td>220500.0</td>\n",
       "      <td>NEAR OCEAN</td>\n",
       "    </tr>\n",
       "    <tr>\n",
       "      <th>20268</th>\n",
       "      <td>-119.18</td>\n",
       "      <td>34.19</td>\n",
       "      <td>19.0</td>\n",
       "      <td>2393.0</td>\n",
       "      <td>NaN</td>\n",
       "      <td>1938.0</td>\n",
       "      <td>762.0</td>\n",
       "      <td>1.6953</td>\n",
       "      <td>167400.0</td>\n",
       "      <td>NEAR OCEAN</td>\n",
       "    </tr>\n",
       "    <tr>\n",
       "      <th>20372</th>\n",
       "      <td>-118.88</td>\n",
       "      <td>34.17</td>\n",
       "      <td>15.0</td>\n",
       "      <td>4260.0</td>\n",
       "      <td>NaN</td>\n",
       "      <td>1701.0</td>\n",
       "      <td>669.0</td>\n",
       "      <td>5.1033</td>\n",
       "      <td>410700.0</td>\n",
       "      <td>&lt;1H OCEAN</td>\n",
       "    </tr>\n",
       "    <tr>\n",
       "      <th>20460</th>\n",
       "      <td>-118.75</td>\n",
       "      <td>34.29</td>\n",
       "      <td>17.0</td>\n",
       "      <td>5512.0</td>\n",
       "      <td>NaN</td>\n",
       "      <td>2734.0</td>\n",
       "      <td>814.0</td>\n",
       "      <td>6.6073</td>\n",
       "      <td>258100.0</td>\n",
       "      <td>&lt;1H OCEAN</td>\n",
       "    </tr>\n",
       "    <tr>\n",
       "      <th>20484</th>\n",
       "      <td>-118.72</td>\n",
       "      <td>34.28</td>\n",
       "      <td>17.0</td>\n",
       "      <td>3051.0</td>\n",
       "      <td>NaN</td>\n",
       "      <td>1705.0</td>\n",
       "      <td>495.0</td>\n",
       "      <td>5.7376</td>\n",
       "      <td>218600.0</td>\n",
       "      <td>&lt;1H OCEAN</td>\n",
       "    </tr>\n",
       "  </tbody>\n",
       "</table>\n",
       "<p>207 rows × 10 columns</p>\n",
       "</div>"
      ],
      "text/plain": [
       "       longitude  latitude  housing_median_age  total_rooms  total_bedrooms  \\\n",
       "290      -122.16     37.77                47.0       1256.0             NaN   \n",
       "341      -122.17     37.75                38.0        992.0             NaN   \n",
       "538      -122.28     37.78                29.0       5154.0             NaN   \n",
       "563      -122.24     37.75                45.0        891.0             NaN   \n",
       "696      -122.10     37.69                41.0        746.0             NaN   \n",
       "...          ...       ...                 ...          ...             ...   \n",
       "20267    -119.19     34.20                18.0       3620.0             NaN   \n",
       "20268    -119.18     34.19                19.0       2393.0             NaN   \n",
       "20372    -118.88     34.17                15.0       4260.0             NaN   \n",
       "20460    -118.75     34.29                17.0       5512.0             NaN   \n",
       "20484    -118.72     34.28                17.0       3051.0             NaN   \n",
       "\n",
       "       population  households  median_income  median_house_value  \\\n",
       "290         570.0       218.0         4.3750            161900.0   \n",
       "341         732.0       259.0         1.6196             85100.0   \n",
       "538        3741.0      1273.0         2.5762            173400.0   \n",
       "563         384.0       146.0         4.9489            247100.0   \n",
       "696         387.0       161.0         3.9063            178400.0   \n",
       "...           ...         ...            ...                 ...   \n",
       "20267      3171.0       779.0         3.3409            220500.0   \n",
       "20268      1938.0       762.0         1.6953            167400.0   \n",
       "20372      1701.0       669.0         5.1033            410700.0   \n",
       "20460      2734.0       814.0         6.6073            258100.0   \n",
       "20484      1705.0       495.0         5.7376            218600.0   \n",
       "\n",
       "      ocean_proximity  \n",
       "290          NEAR BAY  \n",
       "341          NEAR BAY  \n",
       "538          NEAR BAY  \n",
       "563          NEAR BAY  \n",
       "696          NEAR BAY  \n",
       "...               ...  \n",
       "20267      NEAR OCEAN  \n",
       "20268      NEAR OCEAN  \n",
       "20372       <1H OCEAN  \n",
       "20460       <1H OCEAN  \n",
       "20484       <1H OCEAN  \n",
       "\n",
       "[207 rows x 10 columns]"
      ]
     },
     "execution_count": 229,
     "metadata": {},
     "output_type": "execute_result"
    }
   ],
   "source": [
    "sample_incomplete_rows = housing[housing.isnull().any(axis=1)].head(1000)\n",
    "sample_incomplete_rows"
   ]
  },
  {
   "cell_type": "code",
   "execution_count": 230,
   "id": "dbaf6bb3",
   "metadata": {},
   "outputs": [
    {
     "data": {
      "text/plain": [
       "median_house_value    1.000000\n",
       "median_income         0.688075\n",
       "total_rooms           0.134153\n",
       "housing_median_age    0.105623\n",
       "households            0.065843\n",
       "total_bedrooms        0.049686\n",
       "population           -0.024650\n",
       "longitude            -0.045967\n",
       "latitude             -0.144160\n",
       "Name: median_house_value, dtype: float64"
      ]
     },
     "execution_count": 230,
     "metadata": {},
     "output_type": "execute_result"
    }
   ],
   "source": [
    "#Look at correlation between median_house_value and other vairables\n",
    "corr_matrix = housing.corr()\n",
    "corr_matrix[\"median_house_value\"].sort_values(ascending=False)"
   ]
  },
  {
   "cell_type": "code",
   "execution_count": 231,
   "id": "31b2b4e6",
   "metadata": {},
   "outputs": [],
   "source": [
    "# Data Frame Notes:\n",
    "   \n",
    "    # Missing Data (Non-Null Count Differences)\n",
    "        # Column 4, total_bedrooms has a Non-Null Count=20,433. \n",
    "        # The rest of the variables' counts are 20,640 (N).\n",
    "            # total_bedrooms has missing values\n",
    "            # variable will require imputation before algorithm\n",
    "    \n",
    "    # Datatype Differences (Dtype Differences)\n",
    "        # Column 8, ocean_proximity's datatype is an object.\n",
    "        # The rest of the variables are float64.\n",
    "            # ocean_proximity has a character variable\n",
    "            # variable will need to be transformed into a numeric code before algorithm\n",
    "    \n",
    "    # median_income is correlated the highest with median_house_vlue   "
   ]
  },
  {
   "cell_type": "code",
   "execution_count": 232,
   "id": "b1e3cf47",
   "metadata": {},
   "outputs": [
    {
     "data": {
      "text/html": [
       "<div>\n",
       "<style scoped>\n",
       "    .dataframe tbody tr th:only-of-type {\n",
       "        vertical-align: middle;\n",
       "    }\n",
       "\n",
       "    .dataframe tbody tr th {\n",
       "        vertical-align: top;\n",
       "    }\n",
       "\n",
       "    .dataframe thead th {\n",
       "        text-align: right;\n",
       "    }\n",
       "</style>\n",
       "<table border=\"1\" class=\"dataframe\">\n",
       "  <thead>\n",
       "    <tr style=\"text-align: right;\">\n",
       "      <th></th>\n",
       "      <th>longitude</th>\n",
       "      <th>latitude</th>\n",
       "      <th>housing_median_age</th>\n",
       "      <th>total_rooms</th>\n",
       "      <th>total_bedrooms</th>\n",
       "      <th>population</th>\n",
       "      <th>households</th>\n",
       "      <th>median_income</th>\n",
       "      <th>median_house_value</th>\n",
       "      <th>ocean_proximity</th>\n",
       "    </tr>\n",
       "  </thead>\n",
       "  <tbody>\n",
       "    <tr>\n",
       "      <th>0</th>\n",
       "      <td>-122.23</td>\n",
       "      <td>37.88</td>\n",
       "      <td>41.0</td>\n",
       "      <td>880.0</td>\n",
       "      <td>129.0</td>\n",
       "      <td>322.0</td>\n",
       "      <td>126.0</td>\n",
       "      <td>8.3252</td>\n",
       "      <td>452600.0</td>\n",
       "      <td>NEAR BAY</td>\n",
       "    </tr>\n",
       "    <tr>\n",
       "      <th>1</th>\n",
       "      <td>-122.22</td>\n",
       "      <td>37.86</td>\n",
       "      <td>21.0</td>\n",
       "      <td>7099.0</td>\n",
       "      <td>1106.0</td>\n",
       "      <td>2401.0</td>\n",
       "      <td>1138.0</td>\n",
       "      <td>8.3014</td>\n",
       "      <td>358500.0</td>\n",
       "      <td>NEAR BAY</td>\n",
       "    </tr>\n",
       "    <tr>\n",
       "      <th>2</th>\n",
       "      <td>-122.24</td>\n",
       "      <td>37.85</td>\n",
       "      <td>52.0</td>\n",
       "      <td>1467.0</td>\n",
       "      <td>190.0</td>\n",
       "      <td>496.0</td>\n",
       "      <td>177.0</td>\n",
       "      <td>7.2574</td>\n",
       "      <td>352100.0</td>\n",
       "      <td>NEAR BAY</td>\n",
       "    </tr>\n",
       "    <tr>\n",
       "      <th>3</th>\n",
       "      <td>-122.25</td>\n",
       "      <td>37.85</td>\n",
       "      <td>52.0</td>\n",
       "      <td>1274.0</td>\n",
       "      <td>235.0</td>\n",
       "      <td>558.0</td>\n",
       "      <td>219.0</td>\n",
       "      <td>5.6431</td>\n",
       "      <td>341300.0</td>\n",
       "      <td>NEAR BAY</td>\n",
       "    </tr>\n",
       "    <tr>\n",
       "      <th>4</th>\n",
       "      <td>-122.25</td>\n",
       "      <td>37.85</td>\n",
       "      <td>52.0</td>\n",
       "      <td>1627.0</td>\n",
       "      <td>280.0</td>\n",
       "      <td>565.0</td>\n",
       "      <td>259.0</td>\n",
       "      <td>3.8462</td>\n",
       "      <td>342200.0</td>\n",
       "      <td>NEAR BAY</td>\n",
       "    </tr>\n",
       "    <tr>\n",
       "      <th>...</th>\n",
       "      <td>...</td>\n",
       "      <td>...</td>\n",
       "      <td>...</td>\n",
       "      <td>...</td>\n",
       "      <td>...</td>\n",
       "      <td>...</td>\n",
       "      <td>...</td>\n",
       "      <td>...</td>\n",
       "      <td>...</td>\n",
       "      <td>...</td>\n",
       "    </tr>\n",
       "    <tr>\n",
       "      <th>19670</th>\n",
       "      <td>-121.09</td>\n",
       "      <td>39.48</td>\n",
       "      <td>25.0</td>\n",
       "      <td>1665.0</td>\n",
       "      <td>374.0</td>\n",
       "      <td>845.0</td>\n",
       "      <td>330.0</td>\n",
       "      <td>1.5603</td>\n",
       "      <td>78100.0</td>\n",
       "      <td>INLAND</td>\n",
       "    </tr>\n",
       "    <tr>\n",
       "      <th>19671</th>\n",
       "      <td>-121.21</td>\n",
       "      <td>39.49</td>\n",
       "      <td>18.0</td>\n",
       "      <td>697.0</td>\n",
       "      <td>150.0</td>\n",
       "      <td>356.0</td>\n",
       "      <td>114.0</td>\n",
       "      <td>2.5568</td>\n",
       "      <td>77100.0</td>\n",
       "      <td>INLAND</td>\n",
       "    </tr>\n",
       "    <tr>\n",
       "      <th>19672</th>\n",
       "      <td>-121.22</td>\n",
       "      <td>39.43</td>\n",
       "      <td>17.0</td>\n",
       "      <td>2254.0</td>\n",
       "      <td>485.0</td>\n",
       "      <td>1007.0</td>\n",
       "      <td>433.0</td>\n",
       "      <td>1.7000</td>\n",
       "      <td>92300.0</td>\n",
       "      <td>INLAND</td>\n",
       "    </tr>\n",
       "    <tr>\n",
       "      <th>19673</th>\n",
       "      <td>-121.32</td>\n",
       "      <td>39.43</td>\n",
       "      <td>18.0</td>\n",
       "      <td>1860.0</td>\n",
       "      <td>409.0</td>\n",
       "      <td>741.0</td>\n",
       "      <td>349.0</td>\n",
       "      <td>1.8672</td>\n",
       "      <td>84700.0</td>\n",
       "      <td>INLAND</td>\n",
       "    </tr>\n",
       "    <tr>\n",
       "      <th>19674</th>\n",
       "      <td>-121.24</td>\n",
       "      <td>39.37</td>\n",
       "      <td>16.0</td>\n",
       "      <td>2785.0</td>\n",
       "      <td>616.0</td>\n",
       "      <td>1387.0</td>\n",
       "      <td>530.0</td>\n",
       "      <td>2.3886</td>\n",
       "      <td>89400.0</td>\n",
       "      <td>INLAND</td>\n",
       "    </tr>\n",
       "  </tbody>\n",
       "</table>\n",
       "<p>19675 rows × 10 columns</p>\n",
       "</div>"
      ],
      "text/plain": [
       "       longitude  latitude  housing_median_age  total_rooms  total_bedrooms  \\\n",
       "0        -122.23     37.88                41.0        880.0           129.0   \n",
       "1        -122.22     37.86                21.0       7099.0          1106.0   \n",
       "2        -122.24     37.85                52.0       1467.0           190.0   \n",
       "3        -122.25     37.85                52.0       1274.0           235.0   \n",
       "4        -122.25     37.85                52.0       1627.0           280.0   \n",
       "...          ...       ...                 ...          ...             ...   \n",
       "19670    -121.09     39.48                25.0       1665.0           374.0   \n",
       "19671    -121.21     39.49                18.0        697.0           150.0   \n",
       "19672    -121.22     39.43                17.0       2254.0           485.0   \n",
       "19673    -121.32     39.43                18.0       1860.0           409.0   \n",
       "19674    -121.24     39.37                16.0       2785.0           616.0   \n",
       "\n",
       "       population  households  median_income  median_house_value  \\\n",
       "0           322.0       126.0         8.3252            452600.0   \n",
       "1          2401.0      1138.0         8.3014            358500.0   \n",
       "2           496.0       177.0         7.2574            352100.0   \n",
       "3           558.0       219.0         5.6431            341300.0   \n",
       "4           565.0       259.0         3.8462            342200.0   \n",
       "...           ...         ...            ...                 ...   \n",
       "19670       845.0       330.0         1.5603             78100.0   \n",
       "19671       356.0       114.0         2.5568             77100.0   \n",
       "19672      1007.0       433.0         1.7000             92300.0   \n",
       "19673       741.0       349.0         1.8672             84700.0   \n",
       "19674      1387.0       530.0         2.3886             89400.0   \n",
       "\n",
       "      ocean_proximity  \n",
       "0            NEAR BAY  \n",
       "1            NEAR BAY  \n",
       "2            NEAR BAY  \n",
       "3            NEAR BAY  \n",
       "4            NEAR BAY  \n",
       "...               ...  \n",
       "19670          INLAND  \n",
       "19671          INLAND  \n",
       "19672          INLAND  \n",
       "19673          INLAND  \n",
       "19674          INLAND  \n",
       "\n",
       "[19675 rows x 10 columns]"
      ]
     },
     "execution_count": 232,
     "metadata": {},
     "output_type": "execute_result"
    }
   ],
   "source": [
    "# Drop censored values to make for a better prediction\n",
    "housing.drop(housing[(housing[\"median_house_value\"] == 500001)].index, axis=0, inplace=True)\n",
    "\n",
    "housing = housing.reset_index(drop=True)\n",
    "\n",
    "housing"
   ]
  },
  {
   "cell_type": "code",
   "execution_count": 233,
   "id": "e9f5313a",
   "metadata": {},
   "outputs": [],
   "source": [
    "# Split data into train and test set\n",
    "\n",
    "from sklearn.model_selection import train_test_split\n",
    "train_set, test_set = train_test_split(housing, test_size=0.2, random_state=42)"
   ]
  },
  {
   "cell_type": "code",
   "execution_count": 234,
   "id": "98674ab2",
   "metadata": {},
   "outputs": [],
   "source": [
    "# Redistribute income_cat variable bc it was highly correlates\n",
    "\n",
    "housing[\"income_cat\"] = np.ceil(housing[\"median_income\"] / 1.5)\n",
    "\n",
    "housing[\"income_cat\"].where(housing[\"income_cat\"] < 5, 5.0, inplace=True)"
   ]
  },
  {
   "cell_type": "code",
   "execution_count": 235,
   "id": "ebdd6654",
   "metadata": {},
   "outputs": [
    {
     "data": {
      "text/plain": [
       "3.0    7103\n",
       "2.0    6552\n",
       "4.0    3502\n",
       "5.0    1704\n",
       "1.0     814\n",
       "Name: income_cat, dtype: int64"
      ]
     },
     "execution_count": 235,
     "metadata": {},
     "output_type": "execute_result"
    }
   ],
   "source": [
    "housing[\"income_cat\"].value_counts()"
   ]
  },
  {
   "cell_type": "code",
   "execution_count": 236,
   "id": "332182a9",
   "metadata": {},
   "outputs": [],
   "source": [
    "# Stratified Sampling\n",
    "from sklearn.model_selection import StratifiedShuffleSplit\n",
    "\n",
    "# 80/20 with a single splint. Random generate is 42. \n",
    "split = StratifiedShuffleSplit(n_splits=1, test_size=0.2, random_state=42)\n",
    "# Create two datasets by splitting the housing data stratified by housing[\"income_cat\"]\n",
    "for train_index, test_index in split.split(housing, housing[\"income_cat\"]):\n",
    "    strat_train_set = housing.reindex(train_index)\n",
    "    strat_test_set = housing.reindex(test_index)"
   ]
  },
  {
   "cell_type": "code",
   "execution_count": 237,
   "id": "067d6bec",
   "metadata": {},
   "outputs": [
    {
     "data": {
      "text/plain": [
       "array([   38, 17797,  4783, ...,  3566, 10631,  9223])"
      ]
     },
     "execution_count": 237,
     "metadata": {},
     "output_type": "execute_result"
    }
   ],
   "source": [
    "train_index"
   ]
  },
  {
   "cell_type": "code",
   "execution_count": 238,
   "id": "426748c8",
   "metadata": {},
   "outputs": [],
   "source": [
    "# Create x and y datasets for regression\n",
    "housing = train_set.drop(\"median_income\", axis=1) \n",
    "    # example of dropping variables in Week 2\n",
    "housing_labels = train_set[\"median_income\"].copy()\n",
    "\n"
   ]
  },
  {
   "cell_type": "code",
   "execution_count": 239,
   "id": "fa990c8a",
   "metadata": {},
   "outputs": [
    {
     "data": {
      "text/html": [
       "<div>\n",
       "<style scoped>\n",
       "    .dataframe tbody tr th:only-of-type {\n",
       "        vertical-align: middle;\n",
       "    }\n",
       "\n",
       "    .dataframe tbody tr th {\n",
       "        vertical-align: top;\n",
       "    }\n",
       "\n",
       "    .dataframe thead th {\n",
       "        text-align: right;\n",
       "    }\n",
       "</style>\n",
       "<table border=\"1\" class=\"dataframe\">\n",
       "  <thead>\n",
       "    <tr style=\"text-align: right;\">\n",
       "      <th></th>\n",
       "      <th>longitude</th>\n",
       "      <th>latitude</th>\n",
       "      <th>housing_median_age</th>\n",
       "      <th>total_rooms</th>\n",
       "      <th>total_bedrooms</th>\n",
       "      <th>population</th>\n",
       "      <th>households</th>\n",
       "      <th>median_house_value</th>\n",
       "      <th>ocean_proximity</th>\n",
       "    </tr>\n",
       "  </thead>\n",
       "  <tbody>\n",
       "    <tr>\n",
       "      <th>0</th>\n",
       "      <td>-120.50</td>\n",
       "      <td>37.34</td>\n",
       "      <td>16.0</td>\n",
       "      <td>1245.0</td>\n",
       "      <td>231.0</td>\n",
       "      <td>956.0</td>\n",
       "      <td>219.0</td>\n",
       "      <td>108000.0</td>\n",
       "      <td>INLAND</td>\n",
       "    </tr>\n",
       "    <tr>\n",
       "      <th>1</th>\n",
       "      <td>-119.81</td>\n",
       "      <td>36.77</td>\n",
       "      <td>43.0</td>\n",
       "      <td>2341.0</td>\n",
       "      <td>395.0</td>\n",
       "      <td>890.0</td>\n",
       "      <td>375.0</td>\n",
       "      <td>85000.0</td>\n",
       "      <td>INLAND</td>\n",
       "    </tr>\n",
       "    <tr>\n",
       "      <th>2</th>\n",
       "      <td>-118.49</td>\n",
       "      <td>34.42</td>\n",
       "      <td>23.0</td>\n",
       "      <td>4166.0</td>\n",
       "      <td>756.0</td>\n",
       "      <td>2082.0</td>\n",
       "      <td>743.0</td>\n",
       "      <td>213400.0</td>\n",
       "      <td>&lt;1H OCEAN</td>\n",
       "    </tr>\n",
       "    <tr>\n",
       "      <th>3</th>\n",
       "      <td>-121.30</td>\n",
       "      <td>38.70</td>\n",
       "      <td>18.0</td>\n",
       "      <td>7334.0</td>\n",
       "      <td>1332.0</td>\n",
       "      <td>3339.0</td>\n",
       "      <td>1271.0</td>\n",
       "      <td>124700.0</td>\n",
       "      <td>INLAND</td>\n",
       "    </tr>\n",
       "    <tr>\n",
       "      <th>4</th>\n",
       "      <td>-121.04</td>\n",
       "      <td>37.50</td>\n",
       "      <td>33.0</td>\n",
       "      <td>613.0</td>\n",
       "      <td>123.0</td>\n",
       "      <td>343.0</td>\n",
       "      <td>116.0</td>\n",
       "      <td>129200.0</td>\n",
       "      <td>INLAND</td>\n",
       "    </tr>\n",
       "    <tr>\n",
       "      <th>...</th>\n",
       "      <td>...</td>\n",
       "      <td>...</td>\n",
       "      <td>...</td>\n",
       "      <td>...</td>\n",
       "      <td>...</td>\n",
       "      <td>...</td>\n",
       "      <td>...</td>\n",
       "      <td>...</td>\n",
       "      <td>...</td>\n",
       "    </tr>\n",
       "    <tr>\n",
       "      <th>15735</th>\n",
       "      <td>-121.08</td>\n",
       "      <td>40.19</td>\n",
       "      <td>11.0</td>\n",
       "      <td>919.0</td>\n",
       "      <td>199.0</td>\n",
       "      <td>69.0</td>\n",
       "      <td>43.0</td>\n",
       "      <td>137500.0</td>\n",
       "      <td>INLAND</td>\n",
       "    </tr>\n",
       "    <tr>\n",
       "      <th>15736</th>\n",
       "      <td>-121.48</td>\n",
       "      <td>38.56</td>\n",
       "      <td>52.0</td>\n",
       "      <td>814.0</td>\n",
       "      <td>216.0</td>\n",
       "      <td>327.0</td>\n",
       "      <td>181.0</td>\n",
       "      <td>125000.0</td>\n",
       "      <td>INLAND</td>\n",
       "    </tr>\n",
       "    <tr>\n",
       "      <th>15737</th>\n",
       "      <td>-118.27</td>\n",
       "      <td>33.77</td>\n",
       "      <td>39.0</td>\n",
       "      <td>1731.0</td>\n",
       "      <td>485.0</td>\n",
       "      <td>2115.0</td>\n",
       "      <td>478.0</td>\n",
       "      <td>141300.0</td>\n",
       "      <td>NEAR OCEAN</td>\n",
       "    </tr>\n",
       "    <tr>\n",
       "      <th>15738</th>\n",
       "      <td>-121.93</td>\n",
       "      <td>37.49</td>\n",
       "      <td>5.0</td>\n",
       "      <td>1150.0</td>\n",
       "      <td>311.0</td>\n",
       "      <td>648.0</td>\n",
       "      <td>245.0</td>\n",
       "      <td>300000.0</td>\n",
       "      <td>&lt;1H OCEAN</td>\n",
       "    </tr>\n",
       "    <tr>\n",
       "      <th>15739</th>\n",
       "      <td>-121.21</td>\n",
       "      <td>37.80</td>\n",
       "      <td>45.0</td>\n",
       "      <td>370.0</td>\n",
       "      <td>84.0</td>\n",
       "      <td>167.0</td>\n",
       "      <td>70.0</td>\n",
       "      <td>101800.0</td>\n",
       "      <td>INLAND</td>\n",
       "    </tr>\n",
       "  </tbody>\n",
       "</table>\n",
       "<p>15740 rows × 9 columns</p>\n",
       "</div>"
      ],
      "text/plain": [
       "       longitude  latitude  housing_median_age  total_rooms  total_bedrooms  \\\n",
       "0        -120.50     37.34                16.0       1245.0           231.0   \n",
       "1        -119.81     36.77                43.0       2341.0           395.0   \n",
       "2        -118.49     34.42                23.0       4166.0           756.0   \n",
       "3        -121.30     38.70                18.0       7334.0          1332.0   \n",
       "4        -121.04     37.50                33.0        613.0           123.0   \n",
       "...          ...       ...                 ...          ...             ...   \n",
       "15735    -121.08     40.19                11.0        919.0           199.0   \n",
       "15736    -121.48     38.56                52.0        814.0           216.0   \n",
       "15737    -118.27     33.77                39.0       1731.0           485.0   \n",
       "15738    -121.93     37.49                 5.0       1150.0           311.0   \n",
       "15739    -121.21     37.80                45.0        370.0            84.0   \n",
       "\n",
       "       population  households  median_house_value ocean_proximity  \n",
       "0           956.0       219.0            108000.0          INLAND  \n",
       "1           890.0       375.0             85000.0          INLAND  \n",
       "2          2082.0       743.0            213400.0       <1H OCEAN  \n",
       "3          3339.0      1271.0            124700.0          INLAND  \n",
       "4           343.0       116.0            129200.0          INLAND  \n",
       "...           ...         ...                 ...             ...  \n",
       "15735        69.0        43.0            137500.0          INLAND  \n",
       "15736       327.0       181.0            125000.0          INLAND  \n",
       "15737      2115.0       478.0            141300.0      NEAR OCEAN  \n",
       "15738       648.0       245.0            300000.0       <1H OCEAN  \n",
       "15739       167.0        70.0            101800.0          INLAND  \n",
       "\n",
       "[15740 rows x 9 columns]"
      ]
     },
     "execution_count": 239,
     "metadata": {},
     "output_type": "execute_result"
    }
   ],
   "source": [
    "# reset the index\n",
    "housing = housing.reset_index(drop=True)\n",
    "\n",
    "housing"
   ]
  },
  {
   "cell_type": "code",
   "execution_count": 240,
   "id": "97461871",
   "metadata": {},
   "outputs": [
    {
     "data": {
      "text/plain": [
       "(15740, 9)"
      ]
     },
     "execution_count": 240,
     "metadata": {},
     "output_type": "execute_result"
    }
   ],
   "source": [
    "housing.shape # x variables in training set"
   ]
  },
  {
   "cell_type": "code",
   "execution_count": 241,
   "id": "9fa8eddd",
   "metadata": {},
   "outputs": [
    {
     "data": {
      "text/plain": [
       "(15740,)"
      ]
     },
     "execution_count": 241,
     "metadata": {},
     "output_type": "execute_result"
    }
   ],
   "source": [
    "housing_labels.shape # y variables in training set"
   ]
  },
  {
   "cell_type": "code",
   "execution_count": 242,
   "id": "7b3a7137",
   "metadata": {},
   "outputs": [],
   "source": [
    "# Drop income_cat to return data to original dataset\n",
    "for set_ in (strat_train_set, strat_test_set):\n",
    "    set_.drop(\"income_cat\", axis=1, inplace=True)"
   ]
  },
  {
   "cell_type": "code",
   "execution_count": 243,
   "id": "ba22c2ba",
   "metadata": {},
   "outputs": [
    {
     "data": {
      "text/html": [
       "<div>\n",
       "<style scoped>\n",
       "    .dataframe tbody tr th:only-of-type {\n",
       "        vertical-align: middle;\n",
       "    }\n",
       "\n",
       "    .dataframe tbody tr th {\n",
       "        vertical-align: top;\n",
       "    }\n",
       "\n",
       "    .dataframe thead th {\n",
       "        text-align: right;\n",
       "    }\n",
       "</style>\n",
       "<table border=\"1\" class=\"dataframe\">\n",
       "  <thead>\n",
       "    <tr style=\"text-align: right;\">\n",
       "      <th></th>\n",
       "      <th>longitude</th>\n",
       "      <th>latitude</th>\n",
       "      <th>housing_median_age</th>\n",
       "      <th>total_rooms</th>\n",
       "      <th>total_bedrooms</th>\n",
       "      <th>population</th>\n",
       "      <th>households</th>\n",
       "      <th>median_house_value</th>\n",
       "      <th>ocean_proximity</th>\n",
       "    </tr>\n",
       "  </thead>\n",
       "  <tbody>\n",
       "    <tr>\n",
       "      <th>0</th>\n",
       "      <td>-120.50</td>\n",
       "      <td>37.34</td>\n",
       "      <td>16.0</td>\n",
       "      <td>1245.0</td>\n",
       "      <td>231.0</td>\n",
       "      <td>956.0</td>\n",
       "      <td>219.0</td>\n",
       "      <td>108000.0</td>\n",
       "      <td>INLAND</td>\n",
       "    </tr>\n",
       "    <tr>\n",
       "      <th>1</th>\n",
       "      <td>-119.81</td>\n",
       "      <td>36.77</td>\n",
       "      <td>43.0</td>\n",
       "      <td>2341.0</td>\n",
       "      <td>395.0</td>\n",
       "      <td>890.0</td>\n",
       "      <td>375.0</td>\n",
       "      <td>85000.0</td>\n",
       "      <td>INLAND</td>\n",
       "    </tr>\n",
       "    <tr>\n",
       "      <th>2</th>\n",
       "      <td>-118.49</td>\n",
       "      <td>34.42</td>\n",
       "      <td>23.0</td>\n",
       "      <td>4166.0</td>\n",
       "      <td>756.0</td>\n",
       "      <td>2082.0</td>\n",
       "      <td>743.0</td>\n",
       "      <td>213400.0</td>\n",
       "      <td>&lt;1H OCEAN</td>\n",
       "    </tr>\n",
       "    <tr>\n",
       "      <th>3</th>\n",
       "      <td>-121.30</td>\n",
       "      <td>38.70</td>\n",
       "      <td>18.0</td>\n",
       "      <td>7334.0</td>\n",
       "      <td>1332.0</td>\n",
       "      <td>3339.0</td>\n",
       "      <td>1271.0</td>\n",
       "      <td>124700.0</td>\n",
       "      <td>INLAND</td>\n",
       "    </tr>\n",
       "    <tr>\n",
       "      <th>4</th>\n",
       "      <td>-121.04</td>\n",
       "      <td>37.50</td>\n",
       "      <td>33.0</td>\n",
       "      <td>613.0</td>\n",
       "      <td>123.0</td>\n",
       "      <td>343.0</td>\n",
       "      <td>116.0</td>\n",
       "      <td>129200.0</td>\n",
       "      <td>INLAND</td>\n",
       "    </tr>\n",
       "    <tr>\n",
       "      <th>...</th>\n",
       "      <td>...</td>\n",
       "      <td>...</td>\n",
       "      <td>...</td>\n",
       "      <td>...</td>\n",
       "      <td>...</td>\n",
       "      <td>...</td>\n",
       "      <td>...</td>\n",
       "      <td>...</td>\n",
       "      <td>...</td>\n",
       "    </tr>\n",
       "    <tr>\n",
       "      <th>15735</th>\n",
       "      <td>-121.08</td>\n",
       "      <td>40.19</td>\n",
       "      <td>11.0</td>\n",
       "      <td>919.0</td>\n",
       "      <td>199.0</td>\n",
       "      <td>69.0</td>\n",
       "      <td>43.0</td>\n",
       "      <td>137500.0</td>\n",
       "      <td>INLAND</td>\n",
       "    </tr>\n",
       "    <tr>\n",
       "      <th>15736</th>\n",
       "      <td>-121.48</td>\n",
       "      <td>38.56</td>\n",
       "      <td>52.0</td>\n",
       "      <td>814.0</td>\n",
       "      <td>216.0</td>\n",
       "      <td>327.0</td>\n",
       "      <td>181.0</td>\n",
       "      <td>125000.0</td>\n",
       "      <td>INLAND</td>\n",
       "    </tr>\n",
       "    <tr>\n",
       "      <th>15737</th>\n",
       "      <td>-118.27</td>\n",
       "      <td>33.77</td>\n",
       "      <td>39.0</td>\n",
       "      <td>1731.0</td>\n",
       "      <td>485.0</td>\n",
       "      <td>2115.0</td>\n",
       "      <td>478.0</td>\n",
       "      <td>141300.0</td>\n",
       "      <td>NEAR OCEAN</td>\n",
       "    </tr>\n",
       "    <tr>\n",
       "      <th>15738</th>\n",
       "      <td>-121.93</td>\n",
       "      <td>37.49</td>\n",
       "      <td>5.0</td>\n",
       "      <td>1150.0</td>\n",
       "      <td>311.0</td>\n",
       "      <td>648.0</td>\n",
       "      <td>245.0</td>\n",
       "      <td>300000.0</td>\n",
       "      <td>&lt;1H OCEAN</td>\n",
       "    </tr>\n",
       "    <tr>\n",
       "      <th>15739</th>\n",
       "      <td>-121.21</td>\n",
       "      <td>37.80</td>\n",
       "      <td>45.0</td>\n",
       "      <td>370.0</td>\n",
       "      <td>84.0</td>\n",
       "      <td>167.0</td>\n",
       "      <td>70.0</td>\n",
       "      <td>101800.0</td>\n",
       "      <td>INLAND</td>\n",
       "    </tr>\n",
       "  </tbody>\n",
       "</table>\n",
       "<p>15740 rows × 9 columns</p>\n",
       "</div>"
      ],
      "text/plain": [
       "       longitude  latitude  housing_median_age  total_rooms  total_bedrooms  \\\n",
       "0        -120.50     37.34                16.0       1245.0           231.0   \n",
       "1        -119.81     36.77                43.0       2341.0           395.0   \n",
       "2        -118.49     34.42                23.0       4166.0           756.0   \n",
       "3        -121.30     38.70                18.0       7334.0          1332.0   \n",
       "4        -121.04     37.50                33.0        613.0           123.0   \n",
       "...          ...       ...                 ...          ...             ...   \n",
       "15735    -121.08     40.19                11.0        919.0           199.0   \n",
       "15736    -121.48     38.56                52.0        814.0           216.0   \n",
       "15737    -118.27     33.77                39.0       1731.0           485.0   \n",
       "15738    -121.93     37.49                 5.0       1150.0           311.0   \n",
       "15739    -121.21     37.80                45.0        370.0            84.0   \n",
       "\n",
       "       population  households  median_house_value ocean_proximity  \n",
       "0           956.0       219.0            108000.0          INLAND  \n",
       "1           890.0       375.0             85000.0          INLAND  \n",
       "2          2082.0       743.0            213400.0       <1H OCEAN  \n",
       "3          3339.0      1271.0            124700.0          INLAND  \n",
       "4           343.0       116.0            129200.0          INLAND  \n",
       "...           ...         ...                 ...             ...  \n",
       "15735        69.0        43.0            137500.0          INLAND  \n",
       "15736       327.0       181.0            125000.0          INLAND  \n",
       "15737      2115.0       478.0            141300.0      NEAR OCEAN  \n",
       "15738       648.0       245.0            300000.0       <1H OCEAN  \n",
       "15739       167.0        70.0            101800.0          INLAND  \n",
       "\n",
       "[15740 rows x 9 columns]"
      ]
     },
     "execution_count": 243,
     "metadata": {},
     "output_type": "execute_result"
    }
   ],
   "source": [
    "# reset the index\n",
    "housing = housing.reset_index(drop=True)\n",
    "\n",
    "housing"
   ]
  },
  {
   "cell_type": "code",
   "execution_count": 244,
   "id": "44d315f1",
   "metadata": {},
   "outputs": [],
   "source": [
    "housing = strat_train_set.copy()"
   ]
  },
  {
   "cell_type": "markdown",
   "id": "2f78378c",
   "metadata": {},
   "source": [
    "Transform Data:"
   ]
  },
  {
   "cell_type": "code",
   "execution_count": 245,
   "id": "a7d13a88",
   "metadata": {},
   "outputs": [],
   "source": [
    "housing[\"rooms_per_household\"] = housing[\"total_rooms\"]/housing[\"households\"]\n",
    "housing[\"bedrooms_per_room\"] = housing[\"total_bedrooms\"]/housing[\"total_rooms\"]\n",
    "housing[\"population_per_household\"]=housing[\"population\"]/housing[\"households\"]"
   ]
  },
  {
   "cell_type": "markdown",
   "id": "7c3e519a",
   "metadata": {},
   "source": [
    "Prep for Regression Algorithms"
   ]
  },
  {
   "cell_type": "code",
   "execution_count": 246,
   "id": "16f3730d",
   "metadata": {},
   "outputs": [],
   "source": [
    "housing = strat_train_set.drop(\"median_house_value\", axis=1) # drop labels for training set\n",
    "\n",
    "housing_labels = strat_train_set[\"median_house_value\"].copy()"
   ]
  },
  {
   "cell_type": "code",
   "execution_count": 247,
   "id": "0134e0d6",
   "metadata": {},
   "outputs": [],
   "source": [
    "# Remove text feature\n",
    "housing_num = housing.drop('ocean_proximity', axis=1)"
   ]
  },
  {
   "cell_type": "code",
   "execution_count": 248,
   "id": "dd46a67e",
   "metadata": {},
   "outputs": [],
   "source": [
    "# Pipeline 1\n",
    "\n",
    "# Build pipeline to both impute and scale the data features all in one step\n",
    "from sklearn.pipeline import Pipeline\n",
    "from sklearn.preprocessing import StandardScaler\n",
    "\n",
    "num_pipeline = Pipeline([\n",
    "        ('imputer', SimpleImputer(strategy=\"median\")),\n",
    "\n",
    "        ('std_scaler', StandardScaler()),\n",
    "    ])\n",
    "\n",
    "housing_num_tr = num_pipeline.fit_transform(housing_num)"
   ]
  },
  {
   "cell_type": "code",
   "execution_count": 249,
   "id": "f66c182e",
   "metadata": {},
   "outputs": [],
   "source": [
    "# Pipeline 2 - Full pipeline to preprocess numerical and categorical variables\n",
    "\n",
    "from sklearn.compose import ColumnTransformer\n",
    "\n",
    "\n",
    "num_attribs = list(housing_num)\n",
    "cat_attribs = [\"ocean_proximity\"]\n",
    "\n",
    "full_pipeline = ColumnTransformer([\n",
    "        (\"num\", num_pipeline, num_attribs),\n",
    "        (\"cat\", OneHotEncoder(), cat_attribs),\n",
    "    ])\n",
    "\n",
    "housing_prepared = full_pipeline.fit_transform(housing)"
   ]
  },
  {
   "cell_type": "code",
   "execution_count": 250,
   "id": "6376c251",
   "metadata": {},
   "outputs": [
    {
     "data": {
      "text/plain": [
       "array([[-1.34009174,  1.01157329,  1.8827453 , ...,  0.        ,\n",
       "         1.        ,  0.        ],\n",
       "       [-1.36997407,  2.28691739, -1.07211871, ...,  0.        ,\n",
       "         0.        ,  0.        ],\n",
       "       [ 0.65206347, -0.76646117,  1.48343935, ...,  0.        ,\n",
       "         0.        ,  0.        ],\n",
       "       ...,\n",
       "       [ 0.53253416, -0.66406128, -0.19364563, ...,  0.        ,\n",
       "         0.        ,  0.        ],\n",
       "       [ 0.82637705, -0.84558836, -0.27350682, ...,  0.        ,\n",
       "         0.        ,  0.        ],\n",
       "       [-1.02632729,  0.4716466 ,  0.44524389, ...,  0.        ,\n",
       "         0.        ,  0.        ]])"
      ]
     },
     "execution_count": 250,
     "metadata": {},
     "output_type": "execute_result"
    }
   ],
   "source": [
    "housing_prepared # final prepared data"
   ]
  },
  {
   "cell_type": "markdown",
   "id": "628ef0ec",
   "metadata": {},
   "source": [
    "- Use TWO algorithms to predict median_income."
   ]
  },
  {
   "cell_type": "code",
   "execution_count": 251,
   "id": "45e13c71",
   "metadata": {},
   "outputs": [],
   "source": [
    "# Algorithm 1: Linear Regression"
   ]
  },
  {
   "cell_type": "code",
   "execution_count": 252,
   "id": "198326de",
   "metadata": {},
   "outputs": [
    {
     "data": {
      "text/plain": [
       "LinearRegression()"
      ]
     },
     "execution_count": 252,
     "metadata": {},
     "output_type": "execute_result"
    }
   ],
   "source": [
    "from sklearn.linear_model import LinearRegression\n",
    "lin_reg = LinearRegression()\n",
    "\n",
    "# Fit linear regression\n",
    "lin_reg.fit(housing_prepared, housing_labels)"
   ]
  },
  {
   "cell_type": "code",
   "execution_count": 115,
   "id": "d1ea2219",
   "metadata": {},
   "outputs": [
    {
     "data": {
      "text/plain": [
       "array([61600.52038344, 58799.1003841 , 60916.98332998, 61126.13921167,\n",
       "       59735.75247887, 64621.46679108, 61342.26124825, 61091.12844707,\n",
       "       63971.92354514, 59639.37629365])"
      ]
     },
     "metadata": {},
     "output_type": "display_data"
    }
   ],
   "source": [
    "# Get the RMSE Score\n",
    "\n",
    "from sklearn.model_selection import cross_val_score\n",
    "# Select cross validation with 10 folds\n",
    "lin_scores = cross_val_score(lin_reg, housing_prepared, housing_labels,\n",
    "                             scoring=\"neg_mean_squared_error\", cv=10)\n",
    "lin_rmse_scores = np.sqrt(-lin_scores)\n"
   ]
  },
  {
   "cell_type": "code",
   "execution_count": 118,
   "id": "37529115",
   "metadata": {},
   "outputs": [
    {
     "data": {
      "text/plain": [
       "61284.465211323404"
      ]
     },
     "execution_count": 118,
     "metadata": {},
     "output_type": "execute_result"
    }
   ],
   "source": [
    "lin_rmse_scores.mean()"
   ]
  },
  {
   "cell_type": "markdown",
   "id": "e241732b",
   "metadata": {},
   "source": [
    "Linear Model's RMSE = 61,284"
   ]
  },
  {
   "cell_type": "code",
   "execution_count": null,
   "id": "5e924703",
   "metadata": {},
   "outputs": [],
   "source": [
    "# Algorithm 2: Random Forest Regressor"
   ]
  },
  {
   "cell_type": "code",
   "execution_count": 256,
   "id": "95c99dbb",
   "metadata": {},
   "outputs": [
    {
     "data": {
      "text/plain": [
       "RandomForestRegressor(random_state=42)"
      ]
     },
     "execution_count": 256,
     "metadata": {},
     "output_type": "execute_result"
    }
   ],
   "source": [
    "from sklearn.ensemble import RandomForestRegressor\n",
    "forest_reg = RandomForestRegressor(random_state=42)\n",
    "forest_reg.fit(housing_prepared, housing_labels)"
   ]
  },
  {
   "cell_type": "code",
   "execution_count": 257,
   "id": "7e12a4fb",
   "metadata": {},
   "outputs": [
    {
     "data": {
      "text/plain": [
       "16868.34876453883"
      ]
     },
     "execution_count": 257,
     "metadata": {},
     "output_type": "execute_result"
    }
   ],
   "source": [
    "housing_predictions = forest_reg.predict(housing_prepared)\n",
    "forest_mse = mean_squared_error(housing_labels, housing_predictions)\n",
    "forest_rmse = np.sqrt(forest_mse)\n",
    "forest_rmse\n"
   ]
  },
  {
   "cell_type": "code",
   "execution_count": 258,
   "id": "a5a9e633",
   "metadata": {},
   "outputs": [],
   "source": [
    "from sklearn.model_selection import cross_val_score\n",
    "forest_scores = cross_val_score(forest_reg, housing_prepared, housing_labels,\n",
    "                                scoring=\"neg_mean_squared_error\", cv=10)\n",
    "forest_rmse_scores = np.sqrt(-forest_scores)\n",
    "    "
   ]
  },
  {
   "cell_type": "code",
   "execution_count": 259,
   "id": "8cc31a92",
   "metadata": {},
   "outputs": [
    {
     "data": {
      "text/plain": [
       "45606.849682877866"
      ]
     },
     "execution_count": 259,
     "metadata": {},
     "output_type": "execute_result"
    }
   ],
   "source": [
    "forest_rmse_scores.mean()"
   ]
  },
  {
   "cell_type": "markdown",
   "id": "af3ecd4d",
   "metadata": {},
   "source": [
    "Random Forest Model's RMSE=  45,606"
   ]
  },
  {
   "cell_type": "code",
   "execution_count": null,
   "id": "559ac84d",
   "metadata": {},
   "outputs": [],
   "source": [
    "# Display accuracy score for Random Forest\n",
    "\n",
    "def display_scores(scores):\n",
    "    print(\"Scores:\", scores)\n",
    "    print(\"Mean:\", scores.mean())\n",
    "    print(\"Standard deviation:\", scores.std())\n",
    "\n",
    "clf_cv = cross_val_score(forest_reg, housing_num, housing_labels,\n",
    "                             scoring=\"accuracy\", cv=5)\n",
    "display_scores(clf_cv)"
   ]
  },
  {
   "cell_type": "markdown",
   "id": "e8c1a83b",
   "metadata": {},
   "source": [
    "# Problem 4\n",
    "\n",
    "Look up your number generated *Mynumber* above. \n",
    "\n",
    "If your generated *Mynumber*  number is odd, generate the artificial data:\n",
    "\n",
    "$Y = 0.3X^2 + X + 2 + R$.\n",
    "\n",
    "If your generated *Mynumber*  number is even, generate the artificial data:\n",
    "\n",
    "$Y = 1.8X^2+0.2X + 4 + R$.\n",
    "\n",
    "##### (In our Week 4 class code you can find the code to generate this type of equations)\n",
    "\n",
    "\n",
    "Write then the code to estimate the theta parameters, $$ \\hat{\\theta}$$ of a Ridge regression applied to this data using a Batch Gradient Descent algorithm. \n",
    "\n",
    "Explain the results you arrive to in comparison with a simple linear regression. It is possible that the results you obtain are not optimal. Nevertheless, it is critical that you know how to describe these results.\n",
    "\n",
    "*Make any extra assumptions you think are necessary to answer this question. Your own individual assumptions and reasoning will be graded.*\n"
   ]
  },
  {
   "cell_type": "code",
   "execution_count": 294,
   "id": "0412df53",
   "metadata": {},
   "outputs": [],
   "source": [
    "# My number is 155\n",
    "\n",
    "np.random.seed(42) #creates a random variable\n",
    "import numpy as np\n"
   ]
  },
  {
   "cell_type": "code",
   "execution_count": 295,
   "id": "e13648c3",
   "metadata": {},
   "outputs": [
    {
     "data": {
      "image/png": "[encoded data removed]",
      "text/plain": [
       "<Figure size 432x288 with 1 Axes>"
      ]
     },
     "metadata": {
      "needs_background": "light"
     },
     "output_type": "display_data"
    }
   ],
   "source": [
    "plt.plot(X, y, \"b.\")\n",
    "plt.xlabel(\"$x_1$\", fontsize=18)\n",
    "plt.ylabel(\"$y$\", rotation=0, fontsize=18)\n",
    "plt.axis([0, 2, 0, 15])\n",
    "plt.show()"
   ]
  },
  {
   "cell_type": "code",
   "execution_count": 300,
   "id": "df621b0d",
   "metadata": {},
   "outputs": [],
   "source": [
    "X_b = np.c_[np.ones((100, 1)), X]  # add x0 = 1 to each instance \n",
    "    #don't forget about adding column 1 to your np.ones statement"
   ]
  },
  {
   "cell_type": "code",
   "execution_count": 301,
   "id": "13ade4c7",
   "metadata": {},
   "outputs": [],
   "source": [
    "# set step at 0.1\n",
    "eta = 0.1\n",
    "# number of steps\n",
    "n_iterations = 1000\n",
    "# number of observations\n",
    "m = 100\n",
    "# randomly set the starting point (randomly guess the initial thetas)\n",
    "theta = np.random.randn(2,1) \n",
    "\n",
    "# Walk 1000 steps. \n",
    "for iteration in range(n_iterations):\n",
    "    gradients = 2/m * X_b.T.dot(X_b.dot(theta) - y) #this is where the gradient is calculated\n",
    "    theta = theta - eta * gradients #this is where the thetas get updated, when this is 0 we know we have arrived at the min point\n",
    "    \n",
    "    #on the left side of the min point the theta will be negative and gradient will be negative, so you know you need to increase your theta to bring it closer to the min point \n",
    "    #you need to check for convexity first and then you can use gradient desent to find the minimum\n"
   ]
  },
  {
   "cell_type": "code",
   "execution_count": 302,
   "id": "2cc727ba",
   "metadata": {},
   "outputs": [],
   "source": [
    "train_errors = []\n",
    "val_errors = []\n",
    "np.random.seed(42)\n",
    "\n",
    "X = 2 * np.random.rand(100, 1)\n",
    "y = (0.3**2) + X + 2 + np.random.randn(100, 1)\n"
   ]
  },
  {
   "cell_type": "code",
   "execution_count": 303,
   "id": "715dd1a6",
   "metadata": {},
   "outputs": [],
   "source": [
    "X_train, X_val, y_train, y_val = train_test_split(X, y, test_size=0.2, random_state=10)"
   ]
  },
  {
   "cell_type": "code",
   "execution_count": 310,
   "id": "12e99dd7",
   "metadata": {},
   "outputs": [],
   "source": [
    "# Scale the training data with added 1s\n",
    "x_train_scaled=np.array(X_train)\n",
    "y_train_scaled=np.array(y_train)\n",
    "y_train=y_train.reshape(-1,1)\n",
    "y_test=np.array(y_test)\n",
    "y_test=y_test.reshape(-1,1)\n",
    "x_test_scaled=np.array(X_test)\n",
    "\n",
    "#We need a column of ones to add as a bias term\n",
    "addBias=np.ones([x_train_scaled.shape[0],1])\n",
    "x_train_scaled=np.append(addBias,x_train_scaled,axis=1)\n",
    "    \n",
    "addBias=np.ones([x_test_scaled.shape[0],1])\n",
    "x_test_scaled=np.append(addBias,x_test_scaled,axis=1)\n"
   ]
  },
  {
   "cell_type": "code",
   "execution_count": 312,
   "id": "82efddc3",
   "metadata": {},
   "outputs": [
    {
     "data": {
      "text/plain": [
       "(array([2.37711572]), array([[0.        , 0.73687508]]))"
      ]
     },
     "execution_count": 312,
     "metadata": {},
     "output_type": "execute_result"
    }
   ],
   "source": [
    "from sklearn.linear_model import Ridge\n",
    "ridge_reg = Ridge()\n",
    "ridge_reg.fit(x_train_scaled,y_train_scaled)\n",
    "ridge_reg.intercept_, ridge_reg.coef_ "
   ]
  },
  {
   "cell_type": "code",
   "execution_count": null,
   "id": "548421ac",
   "metadata": {},
   "outputs": [],
   "source": [
    "# ignore middle theta - comes from addBias column\n",
    "# look at theta 1 and 3"
   ]
  },
  {
   "cell_type": "code",
   "execution_count": 314,
   "id": "db21ab77",
   "metadata": {},
   "outputs": [
    {
     "data": {
      "text/plain": [
       "(array([2.30509616]), array([[0.77011339]]))"
      ]
     },
     "execution_count": 314,
     "metadata": {},
     "output_type": "execute_result"
    }
   ],
   "source": [
    "from sklearn.linear_model import LinearRegression\n",
    "lin_reg = LinearRegression()\n",
    "lin_reg.fit(X, y)\n",
    "lin_reg.intercept_, lin_reg.coef_ #shows you the intercept and coefficient for the regression"
   ]
  },
  {
   "cell_type": "markdown",
   "id": "017de3c0",
   "metadata": {},
   "source": [
    "Theta 1 in the Ridge Regression is slightly higher than the theta in the Linear Regression.  But theta 2 is slightly lower in the ridge regression, compared to the linear."
   ]
  },
  {
   "cell_type": "markdown",
   "id": "45f20e69",
   "metadata": {},
   "source": [
    "Results are very close. We want the theta that is going to minimize the cost function, and here we might choose the ridge regression - since it keeps weights as small as possible (versus the linear regression, which does not)"
   ]
  },
  {
   "cell_type": "code",
   "execution_count": null,
   "id": "be8f056b",
   "metadata": {},
   "outputs": [],
   "source": []
  },
  {
   "cell_type": "code",
   "execution_count": null,
   "id": "ec4eea58",
   "metadata": {},
   "outputs": [],
   "source": []
  },
  {
   "cell_type": "code",
   "execution_count": null,
   "id": "2315d0d1",
   "metadata": {},
   "outputs": [],
   "source": []
  }
 ],
 "metadata": {
  "kernelspec": {
   "display_name": "Python 3 (ipykernel)",
   "language": "python",
   "name": "python3"
  },
  "language_info": {
   "codemirror_mode": {
    "name": "ipython",
    "version": 3
   },
   "file_extension": ".py",
   "mimetype": "text/x-python",
   "name": "python",
   "nbconvert_exporter": "python",
   "pygments_lexer": "ipython3",
   "version": "3.9.12"
  }
 },
 "nbformat": 4,
 "nbformat_minor": 5
}
